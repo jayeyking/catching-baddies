{
 "cells": [
  {
   "cell_type": "code",
   "execution_count": 1,
   "metadata": {},
   "outputs": [],
   "source": [
    "import pandas as pd\n",
    "import matplotlib.pyplot as plt\n",
    "import seaborn as sns\n",
    "from mpl_toolkits.mplot3d import Axes3D\n",
    "\n",
    "from sklearn.preprocessing import normalize\n",
    "from sklearn.model_selection import train_test_split\n",
    "from sklearn.neighbors import KNeighborsClassifier\n",
    "from sklearn.metrics import classification_report, confusion_matrix\n",
    "from sklearn.model_selection import cross_val_score\n",
    "from sklearn.model_selection import GridSearchCV\n",
    "from sklearn.decomposition import PCA\n",
    "from sklearn.manifold import TSNE\n",
    "\n",
    "import warnings\n",
    "warnings.filterwarnings(\"ignore\")"
   ]
  },
  {
   "cell_type": "code",
   "execution_count": 5,
   "metadata": {},
   "outputs": [
    {
     "data": {
      "text/html": [
       "<div>\n",
       "<style scoped>\n",
       "    .dataframe tbody tr th:only-of-type {\n",
       "        vertical-align: middle;\n",
       "    }\n",
       "\n",
       "    .dataframe tbody tr th {\n",
       "        vertical-align: top;\n",
       "    }\n",
       "\n",
       "    .dataframe thead th {\n",
       "        text-align: right;\n",
       "    }\n",
       "</style>\n",
       "<table border=\"1\" class=\"dataframe\">\n",
       "  <thead>\n",
       "    <tr style=\"text-align: right;\">\n",
       "      <th></th>\n",
       "      <th>traveled_distance_pixel</th>\n",
       "      <th>elapsed_time</th>\n",
       "      <th>direction_of_movement</th>\n",
       "      <th>straightness</th>\n",
       "      <th>num_points</th>\n",
       "      <th>sum_of_angles</th>\n",
       "      <th>mean_curv</th>\n",
       "      <th>sd_curv</th>\n",
       "      <th>max_curv</th>\n",
       "      <th>min_curv</th>\n",
       "      <th>...</th>\n",
       "      <th>min_a</th>\n",
       "      <th>mean_jerk</th>\n",
       "      <th>sd_jerk</th>\n",
       "      <th>max_jerk</th>\n",
       "      <th>min_jerk</th>\n",
       "      <th>a_beg_time</th>\n",
       "      <th>class</th>\n",
       "      <th>action_3</th>\n",
       "      <th>action_4</th>\n",
       "      <th>user_16</th>\n",
       "    </tr>\n",
       "  </thead>\n",
       "  <tbody>\n",
       "    <tr>\n",
       "      <th>0</th>\n",
       "      <td>271.328509</td>\n",
       "      <td>1.326</td>\n",
       "      <td>1</td>\n",
       "      <td>0.992760</td>\n",
       "      <td>14</td>\n",
       "      <td>17.763925</td>\n",
       "      <td>0.029904</td>\n",
       "      <td>0.034187</td>\n",
       "      <td>0.392699</td>\n",
       "      <td>-0.028377</td>\n",
       "      <td>...</td>\n",
       "      <td>-2387.749473</td>\n",
       "      <td>-3.011601e+02</td>\n",
       "      <td>2.512182e+04</td>\n",
       "      <td>3.891048e+04</td>\n",
       "      <td>-6.412175e+04</td>\n",
       "      <td>0.203</td>\n",
       "      <td>16</td>\n",
       "      <td>0</td>\n",
       "      <td>1</td>\n",
       "      <td>1</td>\n",
       "    </tr>\n",
       "    <tr>\n",
       "      <th>1</th>\n",
       "      <td>114.401435</td>\n",
       "      <td>0.951</td>\n",
       "      <td>3</td>\n",
       "      <td>0.988716</td>\n",
       "      <td>9</td>\n",
       "      <td>15.993451</td>\n",
       "      <td>-0.123588</td>\n",
       "      <td>0.426393</td>\n",
       "      <td>0.241661</td>\n",
       "      <td>-1.127937</td>\n",
       "      <td>...</td>\n",
       "      <td>-8369.853122</td>\n",
       "      <td>8.012253e+05</td>\n",
       "      <td>2.523058e+06</td>\n",
       "      <td>7.056069e+06</td>\n",
       "      <td>-7.373475e+05</td>\n",
       "      <td>0.212</td>\n",
       "      <td>16</td>\n",
       "      <td>0</td>\n",
       "      <td>1</td>\n",
       "      <td>1</td>\n",
       "    </tr>\n",
       "    <tr>\n",
       "      <th>2</th>\n",
       "      <td>1502.533887</td>\n",
       "      <td>3.370</td>\n",
       "      <td>7</td>\n",
       "      <td>0.594392</td>\n",
       "      <td>24</td>\n",
       "      <td>-8.126320</td>\n",
       "      <td>0.147585</td>\n",
       "      <td>0.595290</td>\n",
       "      <td>2.372586</td>\n",
       "      <td>-0.316374</td>\n",
       "      <td>...</td>\n",
       "      <td>-13528.612557</td>\n",
       "      <td>3.818111e+03</td>\n",
       "      <td>1.219586e+05</td>\n",
       "      <td>4.044996e+05</td>\n",
       "      <td>-3.822861e+05</td>\n",
       "      <td>0.234</td>\n",
       "      <td>16</td>\n",
       "      <td>0</td>\n",
       "      <td>0</td>\n",
       "      <td>1</td>\n",
       "    </tr>\n",
       "    <tr>\n",
       "      <th>3</th>\n",
       "      <td>261.358520</td>\n",
       "      <td>1.357</td>\n",
       "      <td>1</td>\n",
       "      <td>0.235519</td>\n",
       "      <td>12</td>\n",
       "      <td>13.732380</td>\n",
       "      <td>0.045313</td>\n",
       "      <td>0.161781</td>\n",
       "      <td>0.486189</td>\n",
       "      <td>-0.081541</td>\n",
       "      <td>...</td>\n",
       "      <td>-34104.424858</td>\n",
       "      <td>2.986979e+06</td>\n",
       "      <td>1.105598e+07</td>\n",
       "      <td>3.627657e+07</td>\n",
       "      <td>-3.655986e+06</td>\n",
       "      <td>0.281</td>\n",
       "      <td>16</td>\n",
       "      <td>1</td>\n",
       "      <td>0</td>\n",
       "      <td>1</td>\n",
       "    </tr>\n",
       "    <tr>\n",
       "      <th>4</th>\n",
       "      <td>489.714695</td>\n",
       "      <td>2.215</td>\n",
       "      <td>7</td>\n",
       "      <td>0.848502</td>\n",
       "      <td>23</td>\n",
       "      <td>-8.332702</td>\n",
       "      <td>0.232239</td>\n",
       "      <td>1.284013</td>\n",
       "      <td>5.819538</td>\n",
       "      <td>-0.287782</td>\n",
       "      <td>...</td>\n",
       "      <td>-8234.999653</td>\n",
       "      <td>5.264586e+04</td>\n",
       "      <td>2.962966e+05</td>\n",
       "      <td>8.226653e+05</td>\n",
       "      <td>-5.536400e+05</td>\n",
       "      <td>0.125</td>\n",
       "      <td>16</td>\n",
       "      <td>1</td>\n",
       "      <td>0</td>\n",
       "      <td>1</td>\n",
       "    </tr>\n",
       "  </tbody>\n",
       "</table>\n",
       "<p>5 rows × 42 columns</p>\n",
       "</div>"
      ],
      "text/plain": [
       "   traveled_distance_pixel  elapsed_time  direction_of_movement  straightness  \\\n",
       "0               271.328509         1.326                      1      0.992760   \n",
       "1               114.401435         0.951                      3      0.988716   \n",
       "2              1502.533887         3.370                      7      0.594392   \n",
       "3               261.358520         1.357                      1      0.235519   \n",
       "4               489.714695         2.215                      7      0.848502   \n",
       "\n",
       "   num_points  sum_of_angles  mean_curv   sd_curv  max_curv  min_curv  ...  \\\n",
       "0          14      17.763925   0.029904  0.034187  0.392699 -0.028377  ...   \n",
       "1           9      15.993451  -0.123588  0.426393  0.241661 -1.127937  ...   \n",
       "2          24      -8.126320   0.147585  0.595290  2.372586 -0.316374  ...   \n",
       "3          12      13.732380   0.045313  0.161781  0.486189 -0.081541  ...   \n",
       "4          23      -8.332702   0.232239  1.284013  5.819538 -0.287782  ...   \n",
       "\n",
       "          min_a     mean_jerk       sd_jerk      max_jerk      min_jerk  \\\n",
       "0  -2387.749473 -3.011601e+02  2.512182e+04  3.891048e+04 -6.412175e+04   \n",
       "1  -8369.853122  8.012253e+05  2.523058e+06  7.056069e+06 -7.373475e+05   \n",
       "2 -13528.612557  3.818111e+03  1.219586e+05  4.044996e+05 -3.822861e+05   \n",
       "3 -34104.424858  2.986979e+06  1.105598e+07  3.627657e+07 -3.655986e+06   \n",
       "4  -8234.999653  5.264586e+04  2.962966e+05  8.226653e+05 -5.536400e+05   \n",
       "\n",
       "   a_beg_time  class  action_3  action_4  user_16  \n",
       "0       0.203     16         0         1        1  \n",
       "1       0.212     16         0         1        1  \n",
       "2       0.234     16         0         0        1  \n",
       "3       0.281     16         1         0        1  \n",
       "4       0.125     16         1         0        1  \n",
       "\n",
       "[5 rows x 42 columns]"
      ]
     },
     "execution_count": 5,
     "metadata": {},
     "output_type": "execute_result"
    }
   ],
   "source": [
    "actions = pd.read_csv(\"../data/user16_vs_user12.csv\")\n",
    "actions.head()"
   ]
  },
  {
   "cell_type": "code",
   "execution_count": 6,
   "metadata": {},
   "outputs": [
    {
     "data": {
      "text/plain": [
       "Index(['traveled_distance_pixel', 'elapsed_time', 'direction_of_movement',\n",
       "       'straightness', 'num_points', 'sum_of_angles', 'mean_curv', 'sd_curv',\n",
       "       'max_curv', 'min_curv', 'mean_omega', 'sd_omega', 'max_omega',\n",
       "       'min_omega', 'largest_deviation', 'dist_end_to_end_line',\n",
       "       'num_critical_points', 'mean_vx', 'sd_vx', 'max_vx', 'min_vx',\n",
       "       'mean_vy', 'sd_vy', 'max_vy', 'min_vy', 'mean_v', 'sd_v', 'max_v',\n",
       "       'min_v', 'mean_a', 'sd_a', 'max_a', 'min_a', 'mean_jerk', 'sd_jerk',\n",
       "       'max_jerk', 'min_jerk', 'a_beg_time', 'class', 'action_3', 'action_4',\n",
       "       'user_16'],\n",
       "      dtype='object')"
      ]
     },
     "execution_count": 6,
     "metadata": {},
     "output_type": "execute_result"
    }
   ],
   "source": [
    "actions.columns"
   ]
  },
  {
   "cell_type": "code",
   "execution_count": 7,
   "metadata": {},
   "outputs": [],
   "source": [
    "# split into features and target variable\n",
    "X = actions.drop(\"user_16\", axis=1)\n",
    "y = actions[\"user_16\"]\n",
    "\n",
    "norm_X = normalize(X)\n",
    "\n",
    "X_train, X_test, y_train, y_test = train_test_split(norm_X, y, test_size=0.3,\n",
    "                                                    random_state=42)"
   ]
  },
  {
   "cell_type": "markdown",
   "metadata": {},
   "source": [
    "# K-Nearest Neighbors ridin' solo"
   ]
  },
  {
   "cell_type": "code",
   "execution_count": 15,
   "metadata": {},
   "outputs": [],
   "source": [
    "# knn algo testing 1 to 100 neighbors to see which number of neighbors is best\n",
    "\n",
    "scores = []\n",
    "\n",
    "for i in range(1, 100, 2):\n",
    "    knn = KNeighborsClassifier(n_neighbors=i)\n",
    "    knn.fit(X_train, y_train)\n",
    "    scores.append(knn.score(X_test, y_test))"
   ]
  },
  {
   "cell_type": "code",
   "execution_count": 21,
   "metadata": {},
   "outputs": [
    {
     "data": {
      "image/png": "[encoded data removed]",
      "text/plain": [
       "<Figure size 1152x576 with 1 Axes>"
      ]
     },
     "metadata": {
      "needs_background": "light"
     },
     "output_type": "display_data"
    }
   ],
   "source": [
    "# plot scores for different numbers of neighbors\n",
    "\n",
    "fig, ax = plt.subplots(figsize=(16, 8))\n",
    "sns.lineplot(x=list(range(1, 100, 2)), y=scores, ax=ax, lw=3)\n",
    "ax.set_title(\"Searching for the Plateau\", color=\"black\", size=20, y=1.03)\n",
    "ax.set_xlabel(\"Number of Neighbors\", color=\"black\", size=20)\n",
    "ax.set_ylabel(\"Score\", color=\"black\", size=20)\n",
    "ax.tick_params(colors=\"black\")\n",
    "\n",
    "ax.annotate(\"Plateau here?\",\n",
    "            xy=(0.4, 0.85),\n",
    "            xytext=(0.55, 0.4),\n",
    "            xycoords=\"figure fraction\",\n",
    "            textcoords=\"figure fraction\",\n",
    "            size=20,\n",
    "            arrowprops=dict(arrowstyle='->',\n",
    "                            connectionstyle='arc3',\n",
    "                            color='grey',\n",
    "                            lw=3))\n",
    "\n",
    "plt.show()\n",
    "\n",
    "# knn suggests 28 neighbors might be best"
   ]
  },
  {
   "cell_type": "code",
   "execution_count": 22,
   "metadata": {},
   "outputs": [],
   "source": [
    "knn_best_guess = KNeighborsClassifier(n_neighbors=38)"
   ]
  },
  {
   "cell_type": "code",
   "execution_count": 23,
   "metadata": {},
   "outputs": [
    {
     "data": {
      "text/plain": [
       "KNeighborsClassifier(algorithm='auto', leaf_size=30, metric='minkowski',\n",
       "           metric_params=None, n_jobs=None, n_neighbors=38, p=2,\n",
       "           weights='uniform')"
      ]
     },
     "execution_count": 23,
     "metadata": {},
     "output_type": "execute_result"
    }
   ],
   "source": [
    "knn_best_guess.fit(X_train, y_train)"
   ]
  },
  {
   "cell_type": "code",
   "execution_count": 24,
   "metadata": {},
   "outputs": [],
   "source": [
    "pred = knn_best_guess.predict(X_test)"
   ]
  },
  {
   "cell_type": "code",
   "execution_count": 25,
   "metadata": {},
   "outputs": [
    {
     "name": "stdout",
     "output_type": "stream",
     "text": [
      "              precision    recall  f1-score   support\n",
      "\n",
      "           0       0.62      0.59      0.60      2311\n",
      "           1       0.60      0.64      0.62      2282\n",
      "\n",
      "   micro avg       0.61      0.61      0.61      4593\n",
      "   macro avg       0.61      0.61      0.61      4593\n",
      "weighted avg       0.61      0.61      0.61      4593\n",
      "\n",
      "[[1362  949]\n",
      " [ 830 1452]]\n"
     ]
    }
   ],
   "source": [
    "print(classification_report(y_test, pred))\n",
    "print(confusion_matrix(y_test, pred))"
   ]
  },
  {
   "cell_type": "markdown",
   "metadata": {},
   "source": [
    "============================\n",
    "### Results\n",
    "\n",
    "True positives: 1362\n",
    "True Negatives: 1452\n",
    "False positives: 949\n",
    "False negatives: 830\n",
    "\n",
    "Accuracy: 61%\n",
    "Values of FP and FN are imbalanced, accuracy potentially not a good measure. Of all the actions labelled, how many were correct.\n",
    "\n",
    "Precision: 62%\n",
    "FPR: 38%\n",
    "Of all actions labelled as not user 16, how many were not user 16.\n",
    "\n",
    "Recall: 64%\n",
    "Of all sessions that were user 16, how many were labelled.\n",
    "\n",
    "F1-score: 0.60\n",
    "Weighted average of precision and recall."
   ]
  }
 ],
 "metadata": {
  "kernelspec": {
   "display_name": "Python 3",
   "language": "python",
   "name": "python3"
  },
  "language_info": {
   "codemirror_mode": {
    "name": "ipython",
    "version": 3
   },
   "file_extension": ".py",
   "mimetype": "text/x-python",
   "name": "python",
   "nbconvert_exporter": "python",
   "pygments_lexer": "ipython3",
   "version": "3.7.3"
  }
 },
 "nbformat": 4,
 "nbformat_minor": 2
}
