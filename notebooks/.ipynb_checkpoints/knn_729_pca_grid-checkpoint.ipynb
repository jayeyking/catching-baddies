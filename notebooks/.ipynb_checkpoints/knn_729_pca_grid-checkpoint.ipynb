{
 "cells": [
  {
   "cell_type": "code",
   "execution_count": 253,
   "metadata": {},
   "outputs": [],
   "source": [
    "import numpy as np\n",
    "import pandas as pd\n",
    "import re\n",
    "import matplotlib.pyplot as plt\n",
    "\n",
    "from sklearn.preprocessing import StandardScaler\n",
    "\n",
    "from sklearn.model_selection import train_test_split\n",
    "from sklearn.decomposition import PCA\n",
    "\n",
    "from sklearn.neighbors import KNeighborsClassifier\n",
    "from sklearn.ensemble import RandomForestClassifier\n",
    "\n",
    "from sklearn.model_selection import GridSearchCV\n",
    "from sklearn.metrics import classification_report, confusion_matrix\n",
    "\n",
    "import warnings\n",
    "warnings.filterwarnings(\"ignore\")"
   ]
  },
  {
   "cell_type": "code",
   "execution_count": 254,
   "metadata": {},
   "outputs": [
    {
     "data": {
      "text/html": [
       "<div>\n",
       "<style scoped>\n",
       "    .dataframe tbody tr th:only-of-type {\n",
       "        vertical-align: middle;\n",
       "    }\n",
       "\n",
       "    .dataframe tbody tr th {\n",
       "        vertical-align: top;\n",
       "    }\n",
       "\n",
       "    .dataframe thead th {\n",
       "        text-align: right;\n",
       "    }\n",
       "</style>\n",
       "<table border=\"1\" class=\"dataframe\">\n",
       "  <thead>\n",
       "    <tr style=\"text-align: right;\">\n",
       "      <th></th>\n",
       "      <th>traveled_distance_pixel</th>\n",
       "      <th>elapsed_time</th>\n",
       "      <th>straightness</th>\n",
       "      <th>num_points</th>\n",
       "      <th>sum_of_angles</th>\n",
       "      <th>mean_curv</th>\n",
       "      <th>sd_curv</th>\n",
       "      <th>max_curv</th>\n",
       "      <th>min_curv</th>\n",
       "      <th>mean_omega</th>\n",
       "      <th>...</th>\n",
       "      <th>action_3</th>\n",
       "      <th>action_4</th>\n",
       "      <th>direction_1</th>\n",
       "      <th>direction_2</th>\n",
       "      <th>direction_3</th>\n",
       "      <th>direction_4</th>\n",
       "      <th>direction_5</th>\n",
       "      <th>direction_6</th>\n",
       "      <th>direction_7</th>\n",
       "      <th>user</th>\n",
       "    </tr>\n",
       "  </thead>\n",
       "  <tbody>\n",
       "    <tr>\n",
       "      <th>0</th>\n",
       "      <td>2596.537181</td>\n",
       "      <td>9.329</td>\n",
       "      <td>0.198032</td>\n",
       "      <td>82</td>\n",
       "      <td>56.525861</td>\n",
       "      <td>-0.085272</td>\n",
       "      <td>0.527422</td>\n",
       "      <td>1.091459</td>\n",
       "      <td>-3.141593</td>\n",
       "      <td>15.669106</td>\n",
       "      <td>...</td>\n",
       "      <td>0</td>\n",
       "      <td>0</td>\n",
       "      <td>0</td>\n",
       "      <td>0</td>\n",
       "      <td>1</td>\n",
       "      <td>0</td>\n",
       "      <td>0</td>\n",
       "      <td>0</td>\n",
       "      <td>0</td>\n",
       "      <td>12</td>\n",
       "    </tr>\n",
       "    <tr>\n",
       "      <th>1</th>\n",
       "      <td>179.260212</td>\n",
       "      <td>1.919</td>\n",
       "      <td>0.959645</td>\n",
       "      <td>14</td>\n",
       "      <td>11.255258</td>\n",
       "      <td>-0.235679</td>\n",
       "      <td>0.916836</td>\n",
       "      <td>0.314159</td>\n",
       "      <td>-3.141593</td>\n",
       "      <td>-10.058717</td>\n",
       "      <td>...</td>\n",
       "      <td>0</td>\n",
       "      <td>1</td>\n",
       "      <td>0</td>\n",
       "      <td>1</td>\n",
       "      <td>0</td>\n",
       "      <td>0</td>\n",
       "      <td>0</td>\n",
       "      <td>0</td>\n",
       "      <td>0</td>\n",
       "      <td>12</td>\n",
       "    </tr>\n",
       "    <tr>\n",
       "      <th>2</th>\n",
       "      <td>887.903498</td>\n",
       "      <td>2.137</td>\n",
       "      <td>0.979540</td>\n",
       "      <td>21</td>\n",
       "      <td>-14.268377</td>\n",
       "      <td>-0.078308</td>\n",
       "      <td>0.112436</td>\n",
       "      <td>0.261799</td>\n",
       "      <td>-1.570796</td>\n",
       "      <td>-5.221251</td>\n",
       "      <td>...</td>\n",
       "      <td>0</td>\n",
       "      <td>0</td>\n",
       "      <td>0</td>\n",
       "      <td>0</td>\n",
       "      <td>0</td>\n",
       "      <td>0</td>\n",
       "      <td>0</td>\n",
       "      <td>0</td>\n",
       "      <td>1</td>\n",
       "      <td>12</td>\n",
       "    </tr>\n",
       "    <tr>\n",
       "      <th>3</th>\n",
       "      <td>75.035669</td>\n",
       "      <td>1.358</td>\n",
       "      <td>0.999613</td>\n",
       "      <td>7</td>\n",
       "      <td>-0.071307</td>\n",
       "      <td>-0.000650</td>\n",
       "      <td>0.002580</td>\n",
       "      <td>0.001828</td>\n",
       "      <td>-0.005080</td>\n",
       "      <td>0.052710</td>\n",
       "      <td>...</td>\n",
       "      <td>0</td>\n",
       "      <td>1</td>\n",
       "      <td>0</td>\n",
       "      <td>0</td>\n",
       "      <td>0</td>\n",
       "      <td>0</td>\n",
       "      <td>0</td>\n",
       "      <td>0</td>\n",
       "      <td>1</td>\n",
       "      <td>12</td>\n",
       "    </tr>\n",
       "    <tr>\n",
       "      <th>4</th>\n",
       "      <td>1078.673940</td>\n",
       "      <td>3.541</td>\n",
       "      <td>0.949591</td>\n",
       "      <td>27</td>\n",
       "      <td>-24.025555</td>\n",
       "      <td>-0.040986</td>\n",
       "      <td>0.174415</td>\n",
       "      <td>0.249828</td>\n",
       "      <td>-0.628390</td>\n",
       "      <td>4.743248</td>\n",
       "      <td>...</td>\n",
       "      <td>1</td>\n",
       "      <td>0</td>\n",
       "      <td>0</td>\n",
       "      <td>0</td>\n",
       "      <td>0</td>\n",
       "      <td>1</td>\n",
       "      <td>0</td>\n",
       "      <td>0</td>\n",
       "      <td>0</td>\n",
       "      <td>12</td>\n",
       "    </tr>\n",
       "  </tbody>\n",
       "</table>\n",
       "<p>5 rows × 47 columns</p>\n",
       "</div>"
      ],
      "text/plain": [
       "   traveled_distance_pixel  elapsed_time  straightness  num_points  \\\n",
       "0              2596.537181         9.329      0.198032          82   \n",
       "1               179.260212         1.919      0.959645          14   \n",
       "2               887.903498         2.137      0.979540          21   \n",
       "3                75.035669         1.358      0.999613           7   \n",
       "4              1078.673940         3.541      0.949591          27   \n",
       "\n",
       "   sum_of_angles  mean_curv   sd_curv  max_curv  min_curv  mean_omega  ...  \\\n",
       "0      56.525861  -0.085272  0.527422  1.091459 -3.141593   15.669106  ...   \n",
       "1      11.255258  -0.235679  0.916836  0.314159 -3.141593  -10.058717  ...   \n",
       "2     -14.268377  -0.078308  0.112436  0.261799 -1.570796   -5.221251  ...   \n",
       "3      -0.071307  -0.000650  0.002580  0.001828 -0.005080    0.052710  ...   \n",
       "4     -24.025555  -0.040986  0.174415  0.249828 -0.628390    4.743248  ...   \n",
       "\n",
       "   action_3  action_4  direction_1  direction_2  direction_3  direction_4  \\\n",
       "0         0         0            0            0            1            0   \n",
       "1         0         1            0            1            0            0   \n",
       "2         0         0            0            0            0            0   \n",
       "3         0         1            0            0            0            0   \n",
       "4         1         0            0            0            0            1   \n",
       "\n",
       "   direction_5  direction_6  direction_7  user  \n",
       "0            0            0            0    12  \n",
       "1            0            0            0    12  \n",
       "2            0            0            1    12  \n",
       "3            0            0            1    12  \n",
       "4            0            0            0    12  \n",
       "\n",
       "[5 rows x 47 columns]"
      ]
     },
     "execution_count": 254,
     "metadata": {},
     "output_type": "execute_result"
    }
   ],
   "source": [
    "actions = pd.read_csv(\"../../data/processed_balabit_data.csv\")\n",
    "actions.head()"
   ]
  },
  {
   "cell_type": "markdown",
   "metadata": {},
   "source": [
    "# Three users only\n",
    "\n",
    "A multiclass K-Nearest Neighbors classification for three users.\n",
    "\n",
    "Data processed.\n",
    "PCA done on scaled data.\n",
    "GridSearchCV used on unscaled data.\n",
    "Predictions made on unscaled data."
   ]
  },
  {
   "cell_type": "markdown",
   "metadata": {},
   "source": [
    "## Processing"
   ]
  },
  {
   "cell_type": "code",
   "execution_count": 255,
   "metadata": {},
   "outputs": [],
   "source": [
    "# actions = actions[(actions[\"user\"] == 7) | (actions[\"user\"] == 29)]\n",
    "# actions.reset_index(drop=True, inplace=True)"
   ]
  },
  {
   "cell_type": "code",
   "execution_count": 256,
   "metadata": {},
   "outputs": [],
   "source": [
    "# X = actions.drop(\"user\", axis=1)\n",
    "# y = actions[\"user\"]"
   ]
  },
  {
   "cell_type": "code",
   "execution_count": 257,
   "metadata": {},
   "outputs": [],
   "source": [
    "# scaler = StandardScaler()"
   ]
  },
  {
   "cell_type": "code",
   "execution_count": 258,
   "metadata": {},
   "outputs": [],
   "source": [
    "# X_scale = scaler.fit_transform(X)"
   ]
  },
  {
   "cell_type": "markdown",
   "metadata": {},
   "source": [
    "## PCA"
   ]
  },
  {
   "cell_type": "code",
   "execution_count": 259,
   "metadata": {},
   "outputs": [],
   "source": [
    "# pca = PCA(n_components=3)"
   ]
  },
  {
   "cell_type": "code",
   "execution_count": 260,
   "metadata": {},
   "outputs": [],
   "source": [
    "# pca.fit(X_scale)"
   ]
  },
  {
   "cell_type": "code",
   "execution_count": 261,
   "metadata": {},
   "outputs": [],
   "source": [
    "# pca.explained_variance_ratio_"
   ]
  },
  {
   "cell_type": "code",
   "execution_count": 262,
   "metadata": {},
   "outputs": [],
   "source": [
    "# X_reduced = pca.fit_transform(X_scale)"
   ]
  },
  {
   "cell_type": "code",
   "execution_count": 263,
   "metadata": {},
   "outputs": [],
   "source": [
    "# def biplot(score, coeff, labels=None):\n",
    "#     xs = score[:,0]\n",
    "#     ys = score[:,1]\n",
    "#     n = coeff.shape[0]\n",
    "#     scalex = 1.0 / (xs.max() - xs.min())\n",
    "#     scaley = 1.0 / (ys.max() - ys.min())\n",
    "#     plt.figure(figsize=(16,8))\n",
    "#     plt.scatter(xs * scalex, ys * scaley, c = y)\n",
    "    \n",
    "#     for i in range(n):\n",
    "#         plt.arrow(0, 0, coeff[i,0], coeff[i,1],color = 'r',alpha = 0.5)\n",
    "        \n",
    "#         if labels is None:\n",
    "#             plt.text(coeff[i,0]* 1.15, coeff[i,1] * 1.15, \"Var\"+str(i+1), color = 'g', ha = 'center', va = 'center')\n",
    "#         else:\n",
    "#             plt.text(coeff[i,0]* 1.15, coeff[i,1] * 1.15, labels[i], color = 'g', ha = 'center', va = 'center')\n",
    "    \n",
    "#     plt.xlim(-1,1)\n",
    "#     plt.ylim(-1,1)\n",
    "#     plt.xlabel(\"PC{}\".format(1))\n",
    "#     plt.ylabel(\"PC{}\".format(2))\n",
    "#     plt.grid()"
   ]
  },
  {
   "cell_type": "code",
   "execution_count": 264,
   "metadata": {},
   "outputs": [],
   "source": [
    "# biplot(X_reduced[:,0:2], np.transpose(pca.components_[0:2, :]), labels=actions.columns)\n",
    "# plt.show()"
   ]
  },
  {
   "cell_type": "code",
   "execution_count": 265,
   "metadata": {},
   "outputs": [],
   "source": [
    "# n_pcs = pca.components_.shape[0]"
   ]
  },
  {
   "cell_type": "code",
   "execution_count": 266,
   "metadata": {},
   "outputs": [],
   "source": [
    "most_important = [np.abs(pca.components_[i]).argmax() for i in range(n_pcs)]"
   ]
  },
  {
   "cell_type": "code",
   "execution_count": 267,
   "metadata": {},
   "outputs": [],
   "source": [
    "initial_feature_names = list(range(47))"
   ]
  },
  {
   "cell_type": "code",
   "execution_count": 268,
   "metadata": {},
   "outputs": [],
   "source": [
    "most_important_names = [initial_feature_names[most_important[i]] for i in range(n_pcs)]"
   ]
  },
  {
   "cell_type": "code",
   "execution_count": 269,
   "metadata": {},
   "outputs": [],
   "source": [
    "dic = {'PC{}'.format(i): most_important_names[i] for i in range(n_pcs)}"
   ]
  },
  {
   "cell_type": "code",
   "execution_count": 270,
   "metadata": {},
   "outputs": [],
   "source": [
    "pca_df = pd.DataFrame(dic.items())"
   ]
  },
  {
   "cell_type": "code",
   "execution_count": 271,
   "metadata": {},
   "outputs": [],
   "source": [
    "pca_df"
   ]
  },
  {
   "cell_type": "code",
   "execution_count": 272,
   "metadata": {},
   "outputs": [],
   "source": [
    "X_train_r, X_test_r, y_train_r, y_test_r = train_test_split(X_reduced, y, test_size=0.3,\n",
    "                                                            random_state=42)"
   ]
  },
  {
   "cell_type": "code",
   "execution_count": 273,
   "metadata": {},
   "outputs": [],
   "source": [
    "X_train, X_test, y_train, y_test = train_test_split(X, y, test_size=0.3, random_state=42)"
   ]
  },
  {
   "cell_type": "markdown",
   "metadata": {},
   "source": [
    "## KNN GridSearch"
   ]
  },
  {
   "cell_type": "code",
   "execution_count": 274,
   "metadata": {},
   "outputs": [],
   "source": [
    "param_grid = {\"n_neighbors\": np.arange(1, 200, 2),\n",
    "              \"weights\":[\"uniform\", \"distance\"]}"
   ]
  },
  {
   "cell_type": "code",
   "execution_count": 275,
   "metadata": {},
   "outputs": [],
   "source": [
    "knn_gscv = GridSearchCV(KNeighborsClassifier(), param_grid, cv=5)"
   ]
  },
  {
   "cell_type": "code",
   "execution_count": 276,
   "metadata": {},
   "outputs": [],
   "source": [
    "knn_gscv.fit(X_train, y_train)"
   ]
  },
  {
   "cell_type": "code",
   "execution_count": 277,
   "metadata": {},
   "outputs": [],
   "source": [
    "knn_gscv.best_params_"
   ]
  },
  {
   "cell_type": "code",
   "execution_count": 278,
   "metadata": {},
   "outputs": [],
   "source": [
    "knn_gscv.best_score_"
   ]
  },
  {
   "cell_type": "markdown",
   "metadata": {},
   "source": [
    "## Prediction"
   ]
  },
  {
   "cell_type": "code",
   "execution_count": 279,
   "metadata": {},
   "outputs": [],
   "source": [
    "pred_gscv = knn_gscv.predict(X_test)"
   ]
  },
  {
   "cell_type": "code",
   "execution_count": 280,
   "metadata": {},
   "outputs": [],
   "source": [
    "print(classification_report(y_test, pred_gscv))\n",
    "print(confusion_matrix(y_test, pred_gscv))"
   ]
  },
  {
   "cell_type": "code",
   "execution_count": 281,
   "metadata": {},
   "outputs": [],
   "source": [
    "print(\"Accuracy: 87% of all the actions were classified correctly.\")\n",
    "print(\"Precision: 87% (FPR: 13%) of the actions predicted positive were truly positive.\")\n",
    "print(\"Recall: 87% of the actions predicted positive were correctly classified.\")\n",
    "print(\"F1-score: 0.87 Weighted average of precision and recall.\")"
   ]
  },
  {
   "cell_type": "code",
   "execution_count": 282,
   "metadata": {},
   "outputs": [],
   "source": [
    "all_user_performance = classification_report(y_test, pred_gscv)"
   ]
  },
  {
   "cell_type": "code",
   "execution_count": 283,
   "metadata": {},
   "outputs": [],
   "source": [
    "print(all_user_performance)"
   ]
  }
 ],
 "metadata": {
  "kernelspec": {
   "display_name": "Python 3",
   "language": "python",
   "name": "python3"
  },
  "language_info": {
   "codemirror_mode": {
    "name": "ipython",
    "version": 3
   },
   "file_extension": ".py",
   "mimetype": "text/x-python",
   "name": "python",
   "nbconvert_exporter": "python",
   "pygments_lexer": "ipython3",
   "version": "3.7.3"
  }
 },
 "nbformat": 4,
 "nbformat_minor": 2
}
