{
 "cells": [
  {
   "cell_type": "code",
   "execution_count": 1,
   "metadata": {},
   "outputs": [],
   "source": [
    "import pandas as pd\n",
    "import matplotlib.pyplot as plt\n",
    "import seaborn as sns\n",
    "from mpl_toolkits.mplot3d import Axes3D\n",
    "\n",
    "from sklearn.preprocessing import normalize\n",
    "from sklearn.model_selection import train_test_split\n",
    "from sklearn.neighbors import KNeighborsClassifier\n",
    "from sklearn.metrics import classification_report, confusion_matrix\n",
    "from sklearn.model_selection import cross_val_score\n",
    "from sklearn.model_selection import GridSearchCV\n",
    "from sklearn.decomposition import PCA\n",
    "from sklearn.manifold import TSNE\n",
    "\n",
    "import warnings\n",
    "warnings.filterwarnings(\"ignore\")"
   ]
  },
  {
   "cell_type": "markdown",
   "metadata": {},
   "source": [
    "# Read data"
   ]
  },
  {
   "cell_type": "code",
   "execution_count": 20,
   "metadata": {},
   "outputs": [
    {
     "data": {
      "text/html": [
       "<div>\n",
       "<style scoped>\n",
       "    .dataframe tbody tr th:only-of-type {\n",
       "        vertical-align: middle;\n",
       "    }\n",
       "\n",
       "    .dataframe tbody tr th {\n",
       "        vertical-align: top;\n",
       "    }\n",
       "\n",
       "    .dataframe thead th {\n",
       "        text-align: right;\n",
       "    }\n",
       "</style>\n",
       "<table border=\"1\" class=\"dataframe\">\n",
       "  <thead>\n",
       "    <tr style=\"text-align: right;\">\n",
       "      <th></th>\n",
       "      <th>traveled_distance_pixel</th>\n",
       "      <th>elapsed_time</th>\n",
       "      <th>straightness</th>\n",
       "      <th>num_points</th>\n",
       "      <th>sum_of_angles</th>\n",
       "      <th>mean_curv</th>\n",
       "      <th>sd_curv</th>\n",
       "      <th>max_curv</th>\n",
       "      <th>min_curv</th>\n",
       "      <th>mean_omega</th>\n",
       "      <th>...</th>\n",
       "      <th>action_3</th>\n",
       "      <th>action_4</th>\n",
       "      <th>direction_1</th>\n",
       "      <th>direction_2</th>\n",
       "      <th>direction_3</th>\n",
       "      <th>direction_4</th>\n",
       "      <th>direction_5</th>\n",
       "      <th>direction_6</th>\n",
       "      <th>direction_7</th>\n",
       "      <th>user_16</th>\n",
       "    </tr>\n",
       "  </thead>\n",
       "  <tbody>\n",
       "    <tr>\n",
       "      <th>0</th>\n",
       "      <td>7.000000</td>\n",
       "      <td>0.125</td>\n",
       "      <td>1.000000</td>\n",
       "      <td>4</td>\n",
       "      <td>0.000000</td>\n",
       "      <td>0.000000</td>\n",
       "      <td>0.000000</td>\n",
       "      <td>0.000000</td>\n",
       "      <td>0.000000</td>\n",
       "      <td>0.000000</td>\n",
       "      <td>...</td>\n",
       "      <td>0</td>\n",
       "      <td>1</td>\n",
       "      <td>0</td>\n",
       "      <td>0</td>\n",
       "      <td>0</td>\n",
       "      <td>0</td>\n",
       "      <td>0</td>\n",
       "      <td>0</td>\n",
       "      <td>0</td>\n",
       "      <td>1</td>\n",
       "    </tr>\n",
       "    <tr>\n",
       "      <th>1</th>\n",
       "      <td>89.008474</td>\n",
       "      <td>0.437</td>\n",
       "      <td>0.999968</td>\n",
       "      <td>5</td>\n",
       "      <td>0.016948</td>\n",
       "      <td>-0.000634</td>\n",
       "      <td>0.001366</td>\n",
       "      <td>0.000287</td>\n",
       "      <td>-0.002825</td>\n",
       "      <td>0.009086</td>\n",
       "      <td>...</td>\n",
       "      <td>0</td>\n",
       "      <td>0</td>\n",
       "      <td>0</td>\n",
       "      <td>0</td>\n",
       "      <td>0</td>\n",
       "      <td>0</td>\n",
       "      <td>0</td>\n",
       "      <td>0</td>\n",
       "      <td>0</td>\n",
       "      <td>1</td>\n",
       "    </tr>\n",
       "    <tr>\n",
       "      <th>2</th>\n",
       "      <td>3.000000</td>\n",
       "      <td>0.125</td>\n",
       "      <td>1.000000</td>\n",
       "      <td>4</td>\n",
       "      <td>0.000000</td>\n",
       "      <td>0.000000</td>\n",
       "      <td>0.000000</td>\n",
       "      <td>0.000000</td>\n",
       "      <td>0.000000</td>\n",
       "      <td>0.000000</td>\n",
       "      <td>...</td>\n",
       "      <td>0</td>\n",
       "      <td>1</td>\n",
       "      <td>0</td>\n",
       "      <td>0</td>\n",
       "      <td>0</td>\n",
       "      <td>0</td>\n",
       "      <td>0</td>\n",
       "      <td>0</td>\n",
       "      <td>0</td>\n",
       "      <td>1</td>\n",
       "    </tr>\n",
       "    <tr>\n",
       "      <th>3</th>\n",
       "      <td>1051.510748</td>\n",
       "      <td>3.369</td>\n",
       "      <td>0.310032</td>\n",
       "      <td>29</td>\n",
       "      <td>12.039747</td>\n",
       "      <td>0.060570</td>\n",
       "      <td>0.315803</td>\n",
       "      <td>1.570796</td>\n",
       "      <td>-0.397340</td>\n",
       "      <td>0.563722</td>\n",
       "      <td>...</td>\n",
       "      <td>1</td>\n",
       "      <td>0</td>\n",
       "      <td>0</td>\n",
       "      <td>0</td>\n",
       "      <td>0</td>\n",
       "      <td>0</td>\n",
       "      <td>0</td>\n",
       "      <td>0</td>\n",
       "      <td>0</td>\n",
       "      <td>1</td>\n",
       "    </tr>\n",
       "    <tr>\n",
       "      <th>4</th>\n",
       "      <td>42.000000</td>\n",
       "      <td>0.390</td>\n",
       "      <td>1.000000</td>\n",
       "      <td>5</td>\n",
       "      <td>0.000000</td>\n",
       "      <td>0.000000</td>\n",
       "      <td>0.000000</td>\n",
       "      <td>0.000000</td>\n",
       "      <td>0.000000</td>\n",
       "      <td>0.000000</td>\n",
       "      <td>...</td>\n",
       "      <td>0</td>\n",
       "      <td>0</td>\n",
       "      <td>0</td>\n",
       "      <td>0</td>\n",
       "      <td>0</td>\n",
       "      <td>0</td>\n",
       "      <td>0</td>\n",
       "      <td>0</td>\n",
       "      <td>0</td>\n",
       "      <td>1</td>\n",
       "    </tr>\n",
       "  </tbody>\n",
       "</table>\n",
       "<p>5 rows × 47 columns</p>\n",
       "</div>"
      ],
      "text/plain": [
       "   traveled_distance_pixel  elapsed_time  straightness  num_points  \\\n",
       "0                 7.000000         0.125      1.000000           4   \n",
       "1                89.008474         0.437      0.999968           5   \n",
       "2                 3.000000         0.125      1.000000           4   \n",
       "3              1051.510748         3.369      0.310032          29   \n",
       "4                42.000000         0.390      1.000000           5   \n",
       "\n",
       "   sum_of_angles  mean_curv   sd_curv  max_curv  min_curv  mean_omega  ...  \\\n",
       "0       0.000000   0.000000  0.000000  0.000000  0.000000    0.000000  ...   \n",
       "1       0.016948  -0.000634  0.001366  0.000287 -0.002825    0.009086  ...   \n",
       "2       0.000000   0.000000  0.000000  0.000000  0.000000    0.000000  ...   \n",
       "3      12.039747   0.060570  0.315803  1.570796 -0.397340    0.563722  ...   \n",
       "4       0.000000   0.000000  0.000000  0.000000  0.000000    0.000000  ...   \n",
       "\n",
       "   action_3  action_4  direction_1  direction_2  direction_3  direction_4  \\\n",
       "0         0         1            0            0            0            0   \n",
       "1         0         0            0            0            0            0   \n",
       "2         0         1            0            0            0            0   \n",
       "3         1         0            0            0            0            0   \n",
       "4         0         0            0            0            0            0   \n",
       "\n",
       "   direction_5  direction_6  direction_7  user_16  \n",
       "0            0            0            0        1  \n",
       "1            0            0            0        1  \n",
       "2            0            0            0        1  \n",
       "3            0            0            0        1  \n",
       "4            0            0            0        1  \n",
       "\n",
       "[5 rows x 47 columns]"
      ]
     },
     "execution_count": 20,
     "metadata": {},
     "output_type": "execute_result"
    }
   ],
   "source": [
    "actions = pd.read_csv(\"../data/user16_vs_the_world.csv\")\n",
    "actions.head()"
   ]
  },
  {
   "cell_type": "code",
   "execution_count": 21,
   "metadata": {},
   "outputs": [
    {
     "data": {
      "text/plain": [
       "Index(['traveled_distance_pixel', 'elapsed_time', 'straightness', 'num_points',\n",
       "       'sum_of_angles', 'mean_curv', 'sd_curv', 'max_curv', 'min_curv',\n",
       "       'mean_omega', 'sd_omega', 'max_omega', 'min_omega', 'largest_deviation',\n",
       "       'dist_end_to_end_line', 'num_critical_points', 'mean_vx', 'sd_vx',\n",
       "       'max_vx', 'min_vx', 'mean_vy', 'sd_vy', 'max_vy', 'min_vy', 'mean_v',\n",
       "       'sd_v', 'max_v', 'min_v', 'mean_a', 'sd_a', 'max_a', 'min_a',\n",
       "       'mean_jerk', 'sd_jerk', 'max_jerk', 'min_jerk', 'a_beg_time',\n",
       "       'action_3', 'action_4', 'direction_1', 'direction_2', 'direction_3',\n",
       "       'direction_4', 'direction_5', 'direction_6', 'direction_7', 'user_16'],\n",
       "      dtype='object')"
      ]
     },
     "execution_count": 21,
     "metadata": {},
     "output_type": "execute_result"
    }
   ],
   "source": [
    "actions.columns"
   ]
  },
  {
   "cell_type": "code",
   "execution_count": 22,
   "metadata": {},
   "outputs": [],
   "source": [
    "# split into features and target variable\n",
    "X = actions.drop(\"user_16\", axis=1)\n",
    "y = actions[\"user_16\"]\n",
    "\n",
    "norm_X = normalize(X)\n",
    "\n",
    "X_train, X_test, y_train, y_test = train_test_split(norm_X, y, test_size=0.3,\n",
    "                                                    random_state=42)"
   ]
  },
  {
   "cell_type": "markdown",
   "metadata": {},
   "source": [
    "# Best Guess Approach"
   ]
  },
  {
   "cell_type": "code",
   "execution_count": 23,
   "metadata": {},
   "outputs": [],
   "source": [
    "# knn algo testing 1 to 50 neighbors to see which number of neighbors is best\n",
    "\n",
    "scores = []\n",
    "\n",
    "for i in range(1, 50):\n",
    "    knn = KNeighborsClassifier(n_neighbors=i)\n",
    "    knn.fit(X_train, y_train)\n",
    "    scores.append(knn.score(X_test, y_test))"
   ]
  },
  {
   "cell_type": "code",
   "execution_count": 60,
   "metadata": {},
   "outputs": [
    {
     "data": {
      "image/png": "[encoded data removed]",
      "text/plain": [
       "<Figure size 1152x576 with 1 Axes>"
      ]
     },
     "metadata": {
      "needs_background": "light"
     },
     "output_type": "display_data"
    }
   ],
   "source": [
    "# plot scores for different numbers of neighbors\n",
    "\n",
    "fig, ax = plt.subplots(figsize=(16, 8))\n",
    "sns.lineplot(x=list(range(1, 50)), y=scores, ax=ax, lw=3)\n",
    "ax.set_title(\"Searching for the Plateau\", color=\"black\", size=20, y=1.03)\n",
    "ax.set_xlabel(\"Number of Neighbors\", color=\"black\", size=20)\n",
    "ax.set_ylabel(\"Score\", color=\"black\", size=20)\n",
    "ax.tick_params(colors=\"black\")\n",
    "\n",
    "ax.annotate(\"Plateau here?\",\n",
    "            xy=(0.65, 0.85),\n",
    "            xytext=(0.55, 0.4),\n",
    "            xycoords=\"figure fraction\",\n",
    "            textcoords=\"figure fraction\",\n",
    "            size=20,\n",
    "            arrowprops=dict(arrowstyle='->',\n",
    "                            connectionstyle='arc3',\n",
    "                            color='grey',\n",
    "                            lw=3))\n",
    "\n",
    "plt.show()"
   ]
  },
  {
   "cell_type": "code",
   "execution_count": 25,
   "metadata": {},
   "outputs": [],
   "source": [
    "knn_best_guess = KNeighborsClassifier(n_neighbors=33)"
   ]
  },
  {
   "cell_type": "code",
   "execution_count": 26,
   "metadata": {},
   "outputs": [
    {
     "data": {
      "text/plain": [
       "KNeighborsClassifier(algorithm='auto', leaf_size=30, metric='minkowski',\n",
       "           metric_params=None, n_jobs=None, n_neighbors=33, p=2,\n",
       "           weights='uniform')"
      ]
     },
     "execution_count": 26,
     "metadata": {},
     "output_type": "execute_result"
    }
   ],
   "source": [
    "knn_best_guess.fit(X_train, y_train)"
   ]
  },
  {
   "cell_type": "code",
   "execution_count": 27,
   "metadata": {},
   "outputs": [],
   "source": [
    "pred = knn_best_guess.predict(X_test)"
   ]
  },
  {
   "cell_type": "code",
   "execution_count": 59,
   "metadata": {},
   "outputs": [
    {
     "data": {
      "text/plain": [
       "0.6534200225568898"
      ]
     },
     "execution_count": 59,
     "metadata": {},
     "output_type": "execute_result"
    }
   ],
   "source": [
    "knn_best_guess.score(X_train, y_train)"
   ]
  },
  {
   "cell_type": "code",
   "execution_count": 28,
   "metadata": {},
   "outputs": [
    {
     "name": "stdout",
     "output_type": "stream",
     "text": [
      "              precision    recall  f1-score   support\n",
      "\n",
      "           0       0.67      0.50      0.57      3214\n",
      "           1       0.61      0.76      0.67      3247\n",
      "\n",
      "   micro avg       0.63      0.63      0.63      6461\n",
      "   macro avg       0.64      0.63      0.62      6461\n",
      "weighted avg       0.64      0.63      0.62      6461\n",
      "\n",
      "[[1604 1610]\n",
      " [ 776 2471]]\n"
     ]
    }
   ],
   "source": [
    "print(classification_report(y_test, pred))\n",
    "print(confusion_matrix(y_test, pred))"
   ]
  },
  {
   "cell_type": "markdown",
   "metadata": {},
   "source": [
    "============================\n",
    "### Results\n",
    "\n",
    "True positives: 1604\n",
    "True Negatives: 2471\n",
    "False positives: 776\n",
    "False negatives: 1610\n",
    "\n",
    "Accuracy: 65%\n",
    "Values of FP and FN are imbalanced, accuracy potentially not a good measure. Of all the actions labelled, how many were correct.\n",
    "\n",
    "Precision: 64%\n",
    "FPR: 36%\n",
    "Of all actions labelled as not user 16, how many were not user 16.\n",
    "\n",
    "Recall: 63%\n",
    "Of all sessions that were user 16, how many were labelled.\n",
    "\n",
    "F1-score: 0.62\n",
    "Weighted average of precision and recall."
   ]
  }
 ],
 "metadata": {
  "kernelspec": {
   "display_name": "Python 3",
   "language": "python",
   "name": "python3"
  },
  "language_info": {
   "codemirror_mode": {
    "name": "ipython",
    "version": 3
   },
   "file_extension": ".py",
   "mimetype": "text/x-python",
   "name": "python",
   "nbconvert_exporter": "python",
   "pygments_lexer": "ipython3",
   "version": "3.7.3"
  }
 },
 "nbformat": 4,
 "nbformat_minor": 2
}
